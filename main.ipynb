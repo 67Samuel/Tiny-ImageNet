{
 "cells": [
  {
   "cell_type": "code",
   "execution_count": 1,
   "metadata": {
    "colab": {
     "base_uri": "https://localhost:8080/",
     "height": 124
    },
    "colab_type": "code",
    "id": "wA4n2ZsKP-dt",
    "outputId": "e03c9e89-41ed-4995-ca63-8704110a2695"
   },
   "outputs": [],
   "source": [
    "# If on Google Colab:\n",
    "\n",
    "# Install pytorch and tqdm (if necessary)\n",
    "#!pip install torch\n",
    "#!pip install torchvision\n",
    "#!pip install tqdm\n",
    "\n",
    "# Mount your google drive as the data drive\n",
    "# This will require google authorization\n",
    "#from google.colab import drive\n",
    "#drive.mount('/content/drive')"
   ]
  },
  {
   "cell_type": "code",
   "execution_count": 2,
   "metadata": {
    "colab": {},
    "colab_type": "code",
    "id": "V3Hu3-dhIaga"
   },
   "outputs": [],
   "source": [
    "import os\n",
    "import tqdm\n",
    "import matplotlib.pyplot as plt\n",
    "import numpy as np\n",
    "\n",
    "import torch\n",
    "import torch.nn as nn\n",
    "import torch.optim as optim\n",
    "import torchvision\n",
    "from torchvision import datasets\n",
    "from torchvision import transforms\n",
    "from torch.autograd import Variable\n",
    "from torch.nn.parameter import Parameter"
   ]
  },
  {
   "cell_type": "code",
   "execution_count": 3,
   "metadata": {
    "colab": {},
    "colab_type": "code",
    "id": "Z7cF6oVvIesG"
   },
   "outputs": [],
   "source": [
    "class Args(object):\n",
    "      def __init__(self, batch_size=64, test_batch_size=1000, epochs=10, lr=0.01, \n",
    "                   optimizer='adam', momentum=0.5, seed=1, log_interval=100, \n",
    "                   dataset='mnist', data_dir='./', cuda=True, features=784, classes=10, \n",
    "                   reg=False, margin=1, topk=5):\n",
    "        \n",
    "        self.batch_size = batch_size\n",
    "        self.test_batch_size = test_batch_size\n",
    "        self.epochs = epochs\n",
    "        self.lr = lr\n",
    "        self.optimizer = optimizer\n",
    "        self.momentum = momentum\n",
    "        self.seed = seed\n",
    "        self.log_interval = log_interval\n",
    "        self.dataset = dataset\n",
    "        self.data_dir = data_dir # Path to datasets\n",
    "        self.cuda = cuda and torch.cuda.is_available()\n",
    "        self.features = features # Number of input features\n",
    "        self.classes = classes # Number of classes\n",
    "        self.reg = reg # L2 regularization\n",
    "        self.margin = margin # Margin in hinge loss\n",
    "        self.topk = topk # Top-k accuracy"
   ]
  },
  {
   "cell_type": "code",
   "execution_count": 4,
   "metadata": {
    "colab": {},
    "colab_type": "code",
    "id": "l2Ejw36nIpRr"
   },
   "outputs": [],
   "source": [
    "def prepare_mnist(args):\n",
    "    DatasetClass = datasets.MNIST\n",
    "    kwargs = {'num_workers': 1, 'pin_memory': True} if args.cuda else {}\n",
    "    dataset_dir = os.path.join(args.data_dir, args.dataset)\n",
    "    \n",
    "    train_dataset = DatasetClass(dataset_dir, train=True, download=True, \n",
    "                                 transform=transforms.Compose([\n",
    "                                     transforms.ToTensor(), \n",
    "                                     transforms.Normalize((0.1307,), (0.3081,))]))\n",
    "    \n",
    "    test_dataset = DatasetClass(dataset_dir, train=False, \n",
    "                                transform=transforms.Compose([\n",
    "                                    transforms.ToTensor(), \n",
    "                                    transforms.Normalize((0.1307,), (0.3081,))]))\n",
    "    \n",
    "    train_loader = torch.utils.data.DataLoader(train_dataset, \n",
    "                                               batch_size=args.batch_size, \n",
    "                                               shuffle=True, **kwargs)\n",
    "    \n",
    "    test_loader = torch.utils.data.DataLoader(test_dataset, \n",
    "                                              batch_size=args.test_batch_size, \n",
    "                                              shuffle=True, **kwargs)\n",
    "    \n",
    "    return train_loader, test_loader, train_dataset, test_dataset"
   ]
  },
  {
   "cell_type": "code",
   "execution_count": 5,
   "metadata": {
    "cellView": "code",
    "colab": {},
    "colab_type": "code",
    "id": "JM9O03mBaPHA"
   },
   "outputs": [],
   "source": [
    "def prepare_imagenet(args):\n",
    "    dataset_dir = os.path.join(args.data_dir, args.dataset)\n",
    "    train_dir = os.path.join(dataset_dir, 'train')\n",
    "    val_dir = os.path.join(dataset_dir, 'val/images')\n",
    "    kwargs = {'num_workers': 1, 'pin_memory': True} if args.cuda else {}\n",
    "    \n",
    "    normalize = transforms.Normalize(mean=[0.5, 0.5, 0.5],\n",
    "                                     std=[0.5, 0.5, 0.5])\n",
    "    \n",
    "    print('Preparing dataset ...')\n",
    "    train_data = datasets.ImageFolder(train_dir, \n",
    "                                      transform=transforms.Compose([\n",
    "                                          #transforms.RandomResizedCrop(56),\n",
    "                                          #transforms.RandomHorizontalFlip(),\n",
    "                                          transforms.ToTensor()]))\n",
    "    \n",
    "    val_data = datasets.ImageFolder(val_dir, \n",
    "                                    transform=transforms.Compose([\n",
    "                                        #transforms.RandomResizedCrop(56),\n",
    "                                        transforms.ToTensor()]))\n",
    "    \n",
    "    print('Preparing data loaders ...')\n",
    "    train_data_loader = torch.utils.data.DataLoader(train_data, batch_size=args.batch_size, \n",
    "                                                    shuffle=True, **kwargs)\n",
    "    \n",
    "    val_data_loader = torch.utils.data.DataLoader(val_data, batch_size=args.test_batch_size, \n",
    "                                                  shuffle=True, **kwargs)\n",
    "    \n",
    "    return train_data_loader, val_data_loader, train_data, val_data"
   ]
  },
  {
   "cell_type": "markdown",
   "metadata": {},
   "source": [
    "Pre-calculated mean & std on imagenet:\n",
    "```\n",
    "normalize = transforms.Normalize(mean=[0.485, 0.456, 0.406], std=[0.229, 0.224, 0.225])\n",
    "```\n",
    "\n",
    "For other datasets, we could just simply use 0.5:\n",
    "```\n",
    "normalize = transforms.Normalize(mean=[0.5, 0.5, 0.5], std=[0.5, 0.5, 0.5])\n",
    "```"
   ]
  },
  {
   "cell_type": "code",
   "execution_count": 6,
   "metadata": {
    "colab": {},
    "colab_type": "code",
    "id": "N7usguH6B3hy"
   },
   "outputs": [],
   "source": [
    "def create_val_img_folder(args):\n",
    "    '''\n",
    "    This method is responsible for separating validation images into separate sub folders\n",
    "    '''\n",
    "    dataset_dir = os.path.join(args.data_dir, args.dataset)\n",
    "    val_dir = os.path.join(dataset_dir, 'val')\n",
    "    img_dir = os.path.join(val_dir, 'images')\n",
    "\n",
    "    fp = open(os.path.join(val_dir, 'val_annotations.txt'), 'r')\n",
    "    data = fp.readlines()\n",
    "    val_img_dict = {}\n",
    "    for line in data:\n",
    "        words = line.split('\\t')\n",
    "        val_img_dict[words[0]] = words[1]\n",
    "    fp.close()\n",
    "\n",
    "    # Create folder if not present and move images into proper folders\n",
    "    for img, folder in val_img_dict.items():\n",
    "        newpath = (os.path.join(img_dir, folder))\n",
    "        if not os.path.exists(newpath):\n",
    "            os.makedirs(newpath)\n",
    "        if os.path.exists(os.path.join(img_dir, img)):\n",
    "            os.rename(os.path.join(img_dir, img), os.path.join(newpath, img))"
   ]
  },
  {
   "cell_type": "code",
   "execution_count": 7,
   "metadata": {
    "colab": {},
    "colab_type": "code",
    "id": "ekK_UpmBh6fe"
   },
   "outputs": [],
   "source": [
    "class SVM(nn.Module):\n",
    "    def __init__(self, n_feature, n_class):\n",
    "        super(SVM, self).__init__()\n",
    "        self.fc = nn.Linear(n_feature, n_class)\n",
    "\n",
    "    def forward(self, x):\n",
    "        x = self.fc(x)\n",
    "        return x"
   ]
  },
  {
   "cell_type": "code",
   "execution_count": 8,
   "metadata": {
    "colab": {},
    "colab_type": "code",
    "id": "S2VEf_bx-27W"
   },
   "outputs": [],
   "source": [
    "class MultiClassHingeLoss(nn.Module):\n",
    "    def __init__(self, p=1, margin=20, size_average=True):\n",
    "        super(MultiClassHingeLoss, self).__init__()\n",
    "        self.p = p\n",
    "        self.margin = margin\n",
    "        self.size_average = size_average\n",
    "        \n",
    "    def forward(self, output, y):\n",
    "        output_y = output[torch.arange(0, y.size()[0]).long(), y.data].view(-1, 1)\n",
    "        loss = output - output_y + self.margin\n",
    "        loss[torch.arange(0, y.size()[0]).long(), y.data] = 0\n",
    "        loss[loss<0] = 0\n",
    "        \n",
    "        if(self.p != 1):\n",
    "            loss = torch.pow(loss, self.p)\n",
    "        \n",
    "        loss = loss.mean() if self.size_average else loss.sum()\n",
    "        return loss"
   ]
  },
  {
   "cell_type": "code",
   "execution_count": 9,
   "metadata": {
    "colab": {},
    "colab_type": "code",
    "id": "tD-StYJ2I6u2"
   },
   "outputs": [],
   "source": [
    "def train(model, optimizer, train_loader, epoch, total_minibatch_count, train_losses, train_accs, args):\n",
    "    model.train()\n",
    "    correct, total_loss, total_acc = 0., 0., 0.\n",
    "    progress_bar = tqdm.tqdm(train_loader, desc='Training')\n",
    "    \n",
    "    for batch_idx, (data, target) in enumerate(progress_bar):\n",
    "        # Stretch images to a 1D vector\n",
    "        data = data.view(-1, args.features)\n",
    "        \n",
    "        if args.cuda:\n",
    "            data, target = data.cuda(), target.cuda()\n",
    "        data, target = Variable(data), Variable(target)\n",
    "\n",
    "        optimizer.zero_grad()\n",
    "        output = model(data)\n",
    "        \n",
    "        # Hinge loss\n",
    "        hinge = MultiClassHingeLoss(margin=args.margin)\n",
    "        loss = hinge(output, target)\n",
    "        \n",
    "        # L2 regularization\n",
    "        if args.reg:\n",
    "            l2_reg = None\n",
    "            for W in model.parameters():\n",
    "                if l2_reg is None:\n",
    "                    l2_reg = W.norm(2)\n",
    "                else:\n",
    "                    l2_reg = l2_reg + W.norm(2)\n",
    "            loss += 1/2 * l2_reg\n",
    "        \n",
    "        # Backpropagation  \n",
    "        loss.backward()\n",
    "        optimizer.step()\n",
    "        \n",
    "        # Compute top-k accuracy\n",
    "        top_indices = torch.topk(output.data, args.topk)[1].t()\n",
    "        match = top_indices.eq(target.view(1, -1).expand_as(top_indices))\n",
    "        accuracy = match.view(-1).float().mean() * args.topk\n",
    "        correct += match.view(-1).float().sum(0)\n",
    "\n",
    "        if args.log_interval != 0 and total_minibatch_count % args.log_interval == 0:\n",
    "            train_losses.append(loss.data[0])\n",
    "            train_accs.append(accuracy.data[0])\n",
    "            \n",
    "        total_loss += loss.data\n",
    "        total_acc += accuracy.data\n",
    "            \n",
    "        progress_bar.set_description(\n",
    "            'Epoch: {} loss: {:.4f}, acc: {:.2f}'.format(\n",
    "                epoch, total_loss / (batch_idx + 1), total_acc / (batch_idx + 1)))\n",
    "\n",
    "        total_minibatch_count += 1\n",
    "\n",
    "    return total_minibatch_count"
   ]
  },
  {
   "cell_type": "code",
   "execution_count": 10,
   "metadata": {
    "colab": {},
    "colab_type": "code",
    "id": "KgCLKEHcI-bg"
   },
   "outputs": [],
   "source": [
    "def test(model, test_loader, epoch, val_losses, val_accs, args):\n",
    "    model.eval()\n",
    "    test_loss, correct = 0., 0.\n",
    "    progress_bar = tqdm.tqdm(test_loader, desc='Validation')\n",
    "    \n",
    "    with torch.no_grad():\n",
    "        for data, target in progress_bar:\n",
    "            data = data.view(-1, args.features)\n",
    "            \n",
    "            if args.cuda:\n",
    "                data, target = data.cuda(), target.cuda()\n",
    "            data, target = Variable(data), Variable(target)\n",
    "            \n",
    "            output = model(data)\n",
    "            loss = MultiClassHingeLoss(margin=args.margin, size_average=False)\n",
    "            test_loss += loss(output, target).data\n",
    "            \n",
    "            top_indices = torch.topk(output.data, args.topk)[1].t()\n",
    "            match = top_indices.eq(target.view(1, -1).expand_as(top_indices))\n",
    "            correct += match.view(-1).float().sum(0)\n",
    "            \n",
    "    test_loss /= len(test_loader.dataset)\n",
    "    acc = correct / len(test_loader.dataset)\n",
    "\n",
    "    val_losses.append(test_loss)\n",
    "    val_accs.append(acc)\n",
    "    \n",
    "    progress_bar.clear()\n",
    "    progress_bar.write(\n",
    "        '\\nEpoch: {} validation test results - Average val_loss: {:.4f}, val_acc: {}/{} ({:.2f}%)'.format(\n",
    "            epoch, test_loss, correct, len(test_loader.dataset),\n",
    "            100. * correct / len(test_loader.dataset)))\n",
    "\n",
    "    return acc"
   ]
  },
  {
   "cell_type": "code",
   "execution_count": 11,
   "metadata": {
    "colab": {},
    "colab_type": "code",
    "id": "khV-_vFSJGT8"
   },
   "outputs": [],
   "source": [
    "def run_experiment(args):\n",
    "    torch.manual_seed(args.seed)\n",
    "    if args.cuda:\n",
    "        torch.cuda.manual_seed(args.seed)\n",
    "    \n",
    "    if args.dataset == 'mnist':\n",
    "        train_loader, test_loader, _, _ = prepare_mnist(args)\n",
    "    else:\n",
    "        # create_val_img_folder(args)\n",
    "        train_loader, test_loader, _, _ = prepare_imagenet(args)\n",
    "    \n",
    "    model = SVM(args.features, args.classes)\n",
    "    if args.cuda:\n",
    "        model.cuda()\n",
    "\n",
    "    if args.optimizer == 'adam':\n",
    "        optimizer = optim.Adam(model.parameters())\n",
    "    else:\n",
    "        optimizer = optim.SGD(model.parameters(), lr=args.lr, momentum=args.momentum)\n",
    "\n",
    "    total_minibatch_count = 0\n",
    "    val_acc = 0\n",
    "    train_losses, train_accs = [], []\n",
    "    val_losses, val_accs = [], []\n",
    "\n",
    "    for epoch in range(1, args.epochs + 1):\n",
    "        total_minibatch_count = train(model, optimizer, train_loader, epoch, \n",
    "                                      total_minibatch_count, train_losses, \n",
    "                                      train_accs, args)\n",
    "        \n",
    "        val_acc = test(model, test_loader, epoch, val_losses, val_accs, args)\n",
    "        \n",
    "    fig, axes = plt.subplots(1, 4, figsize=(13, 4))\n",
    "    axes[0].plot(train_losses)\n",
    "    axes[0].set_title('Loss')\n",
    "    axes[1].plot(train_accs)\n",
    "    axes[1].set_title('Acc')\n",
    "    axes[1].set_ylim([0, 1])\n",
    "    axes[2].plot(val_losses)\n",
    "    axes[2].set_title('Val loss')\n",
    "    axes[3].plot(val_accs)\n",
    "    axes[3].set_title('Val Acc')\n",
    "    axes[3].set_ylim([0, 1])\n",
    "    plt.tight_layout()"
   ]
  },
  {
   "cell_type": "code",
   "execution_count": 12,
   "metadata": {
    "colab": {
     "base_uri": "https://localhost:8080/",
     "height": 35
    },
    "colab_type": "code",
    "id": "OQ6ztrNWJKmm",
    "outputId": "1c6be075-a573-4193-9e5b-a82b0507f803"
   },
   "outputs": [
    {
     "name": "stderr",
     "output_type": "stream",
     "text": [
      "Training:   0%|          | 0/938 [00:00<?, ?it/s]/anaconda3/lib/python3.7/site-packages/ipykernel_launcher.py:42: UserWarning: invalid index of a 0-dim tensor. This will be an error in PyTorch 0.5. Use tensor.item() to convert a 0-dim tensor to a Python number\n",
      "/anaconda3/lib/python3.7/site-packages/ipykernel_launcher.py:43: UserWarning: invalid index of a 0-dim tensor. This will be an error in PyTorch 0.5. Use tensor.item() to convert a 0-dim tensor to a Python number\n",
      "Epoch: 1 loss: 0.0580, acc: 0.89: 100%|██████████| 938/938 [00:07<00:00, 126.41it/s]\n",
      "Validation: 100%|██████████| 10/10 [00:00<00:00, 13.07it/s]\n",
      "Epoch: 2 loss: 0.0422, acc: 0.92:   1%|▏         | 13/938 [00:00<00:14, 65.30it/s] "
     ]
    },
    {
     "name": "stdout",
     "output_type": "stream",
     "text": [
      "\n",
      "Epoch: 1 validation test results - Average val_loss: 0.4161, val_acc: 9091.0/10000 (90.91%)\n"
     ]
    },
    {
     "name": "stderr",
     "output_type": "stream",
     "text": [
      "Epoch: 2 loss: 0.0422, acc: 0.91: 100%|██████████| 938/938 [00:07<00:00, 118.14it/s]\n",
      "Validation: 100%|██████████| 10/10 [00:00<00:00, 14.07it/s]\n",
      "Epoch: 3 loss: 0.0417, acc: 0.91:   1%|▏         | 13/938 [00:00<00:13, 67.85it/s] "
     ]
    },
    {
     "name": "stdout",
     "output_type": "stream",
     "text": [
      "\n",
      "Epoch: 2 validation test results - Average val_loss: 0.4259, val_acc: 9095.0/10000 (90.95%)\n"
     ]
    },
    {
     "name": "stderr",
     "output_type": "stream",
     "text": [
      "Epoch: 3 loss: 0.0404, acc: 0.91: 100%|██████████| 938/938 [00:07<00:00, 120.22it/s]\n",
      "Validation: 100%|██████████| 10/10 [00:00<00:00, 15.30it/s]\n",
      "Epoch: 4 loss: 0.0363, acc: 0.92:   1%|▏         | 14/938 [00:00<00:12, 71.37it/s] "
     ]
    },
    {
     "name": "stdout",
     "output_type": "stream",
     "text": [
      "\n",
      "Epoch: 3 validation test results - Average val_loss: 0.4296, val_acc: 9150.0/10000 (91.50%)\n"
     ]
    },
    {
     "name": "stderr",
     "output_type": "stream",
     "text": [
      "Epoch: 4 loss: 0.0393, acc: 0.91: 100%|██████████| 938/938 [00:07<00:00, 121.20it/s]\n",
      "Validation: 100%|██████████| 10/10 [00:00<00:00, 15.34it/s]\n",
      "Epoch: 5 loss: 0.0377, acc: 0.92:   2%|▏         | 15/938 [00:00<00:12, 75.17it/s] "
     ]
    },
    {
     "name": "stdout",
     "output_type": "stream",
     "text": [
      "\n",
      "Epoch: 4 validation test results - Average val_loss: 0.4130, val_acc: 9143.0/10000 (91.43%)\n"
     ]
    },
    {
     "name": "stderr",
     "output_type": "stream",
     "text": [
      "Epoch: 5 loss: 0.0387, acc: 0.92: 100%|██████████| 938/938 [00:07<00:00, 119.01it/s]\n",
      "Validation: 100%|██████████| 10/10 [00:00<00:00, 15.42it/s]\n",
      "Epoch: 6 loss: 0.0362, acc: 0.92:   1%|▏         | 14/938 [00:00<00:13, 70.70it/s] "
     ]
    },
    {
     "name": "stdout",
     "output_type": "stream",
     "text": [
      "\n",
      "Epoch: 5 validation test results - Average val_loss: 0.4310, val_acc: 9051.0/10000 (90.51%)\n"
     ]
    },
    {
     "name": "stderr",
     "output_type": "stream",
     "text": [
      "Epoch: 6 loss: 0.0385, acc: 0.92: 100%|██████████| 938/938 [00:07<00:00, 123.38it/s]\n",
      "Validation: 100%|██████████| 10/10 [00:00<00:00, 14.59it/s]\n",
      "Epoch: 7 loss: 0.0377, acc: 0.91:   1%|▏         | 13/938 [00:00<00:13, 66.14it/s] "
     ]
    },
    {
     "name": "stdout",
     "output_type": "stream",
     "text": [
      "\n",
      "Epoch: 6 validation test results - Average val_loss: 0.4118, val_acc: 9117.0/10000 (91.17%)\n"
     ]
    },
    {
     "name": "stderr",
     "output_type": "stream",
     "text": [
      "Epoch: 7 loss: 0.0374, acc: 0.92: 100%|██████████| 938/938 [00:07<00:00, 118.19it/s]\n",
      "Validation: 100%|██████████| 10/10 [00:00<00:00, 15.61it/s]\n",
      "Epoch: 8 loss: 0.0387, acc: 0.91:   1%|▏         | 12/938 [00:00<00:15, 61.05it/s] "
     ]
    },
    {
     "name": "stdout",
     "output_type": "stream",
     "text": [
      "\n",
      "Epoch: 7 validation test results - Average val_loss: 0.4184, val_acc: 9128.0/10000 (91.28%)\n"
     ]
    },
    {
     "name": "stderr",
     "output_type": "stream",
     "text": [
      "Epoch: 8 loss: 0.0374, acc: 0.92: 100%|██████████| 938/938 [00:07<00:00, 119.74it/s]\n",
      "Validation: 100%|██████████| 10/10 [00:00<00:00, 13.53it/s]\n",
      "Epoch: 9 loss: 0.0323, acc: 0.93:   1%|▏         | 12/938 [00:00<00:14, 62.24it/s] "
     ]
    },
    {
     "name": "stdout",
     "output_type": "stream",
     "text": [
      "\n",
      "Epoch: 8 validation test results - Average val_loss: 0.4265, val_acc: 9160.0/10000 (91.60%)\n"
     ]
    },
    {
     "name": "stderr",
     "output_type": "stream",
     "text": [
      "Epoch: 9 loss: 0.0370, acc: 0.92: 100%|██████████| 938/938 [00:07<00:00, 121.05it/s]\n",
      "Validation: 100%|██████████| 10/10 [00:00<00:00, 12.51it/s]\n",
      "Epoch: 10 loss: 0.0332, acc: 0.92:   1%|▏         | 14/938 [00:00<00:12, 71.46it/s] "
     ]
    },
    {
     "name": "stdout",
     "output_type": "stream",
     "text": [
      "\n",
      "Epoch: 9 validation test results - Average val_loss: 0.3997, val_acc: 9170.0/10000 (91.70%)\n"
     ]
    },
    {
     "name": "stderr",
     "output_type": "stream",
     "text": [
      "Epoch: 10 loss: 0.0368, acc: 0.92: 100%|██████████| 938/938 [00:07<00:00, 119.90it/s]\n",
      "Validation: 100%|██████████| 10/10 [00:00<00:00, 13.46it/s]\n"
     ]
    },
    {
     "name": "stdout",
     "output_type": "stream",
     "text": [
      "\n",
      "Epoch: 10 validation test results - Average val_loss: 0.4194, val_acc: 9135.0/10000 (91.35%)\n"
     ]
    },
    {
     "data": {
      "image/png": "[encoded data removed]",
      "text/plain": [
       "<Figure size 936x288 with 4 Axes>"
      ]
     },
     "metadata": {
      "needs_background": "light"
     },
     "output_type": "display_data"
    }
   ],
   "source": [
    "# On Mnist\n",
    "run_experiment(Args(topk=1))"
   ]
  },
  {
   "cell_type": "code",
   "execution_count": 13,
   "metadata": {
    "colab": {},
    "colab_type": "code",
    "id": "2OpAU1x3Y55R"
   },
   "outputs": [
    {
     "name": "stdout",
     "output_type": "stream",
     "text": [
      "Preparing dataset ...\n"
     ]
    },
    {
     "name": "stderr",
     "output_type": "stream",
     "text": [
      "\r",
      "Training:   0%|          | 0/100 [00:00<?, ?it/s]"
     ]
    },
    {
     "name": "stdout",
     "output_type": "stream",
     "text": [
      "Preparing data loaders ...\n"
     ]
    },
    {
     "name": "stderr",
     "output_type": "stream",
     "text": [
      "/anaconda3/lib/python3.7/site-packages/ipykernel_launcher.py:42: UserWarning: invalid index of a 0-dim tensor. This will be an error in PyTorch 0.5. Use tensor.item() to convert a 0-dim tensor to a Python number\n",
      "/anaconda3/lib/python3.7/site-packages/ipykernel_launcher.py:43: UserWarning: invalid index of a 0-dim tensor. This will be an error in PyTorch 0.5. Use tensor.item() to convert a 0-dim tensor to a Python number\n",
      "Epoch: 1 loss: 16.2406, acc: 0.08: 100%|██████████| 100/100 [01:32<00:00,  1.08it/s]\n",
      "Validation: 100%|██████████| 10/10 [00:08<00:00,  1.20it/s]\n",
      "Training:   0%|          | 0/100 [00:00<?, ?it/s]"
     ]
    },
    {
     "name": "stdout",
     "output_type": "stream",
     "text": [
      "\n",
      "Epoch: 1 validation test results - Average val_loss: 2820.1965, val_acc: 1133.0/10000 (11.33%)\n"
     ]
    },
    {
     "name": "stderr",
     "output_type": "stream",
     "text": [
      "Epoch: 2 loss: 13.3356, acc: 0.13: 100%|██████████| 100/100 [00:43<00:00,  2.30it/s]\n",
      "Validation: 100%|██████████| 10/10 [00:04<00:00,  2.43it/s]\n",
      "Training:   0%|          | 0/100 [00:00<?, ?it/s]"
     ]
    },
    {
     "name": "stdout",
     "output_type": "stream",
     "text": [
      "\n",
      "Epoch: 2 validation test results - Average val_loss: 2625.0200, val_acc: 1304.0/10000 (13.04%)\n"
     ]
    },
    {
     "name": "stderr",
     "output_type": "stream",
     "text": [
      "Epoch: 3 loss: 12.4590, acc: 0.15: 100%|██████████| 100/100 [00:44<00:00,  2.24it/s]\n",
      "Validation: 100%|██████████| 10/10 [00:03<00:00,  2.59it/s]\n",
      "Training:   0%|          | 0/100 [00:00<?, ?it/s]"
     ]
    },
    {
     "name": "stdout",
     "output_type": "stream",
     "text": [
      "\n",
      "Epoch: 3 validation test results - Average val_loss: 2532.8022, val_acc: 1441.0/10000 (14.41%)\n"
     ]
    },
    {
     "name": "stderr",
     "output_type": "stream",
     "text": [
      "Epoch: 4 loss: 11.9077, acc: 0.16: 100%|██████████| 100/100 [00:44<00:00,  2.25it/s]\n",
      "Validation: 100%|██████████| 10/10 [00:04<00:00,  2.50it/s]\n",
      "Training:   0%|          | 0/100 [00:00<?, ?it/s]"
     ]
    },
    {
     "name": "stdout",
     "output_type": "stream",
     "text": [
      "\n",
      "Epoch: 4 validation test results - Average val_loss: 2474.9348, val_acc: 1454.0/10000 (14.54%)\n"
     ]
    },
    {
     "name": "stderr",
     "output_type": "stream",
     "text": [
      "Epoch: 5 loss: 11.4867, acc: 0.17: 100%|██████████| 100/100 [00:44<00:00,  2.24it/s]\n",
      "Validation: 100%|██████████| 10/10 [00:04<00:00,  2.46it/s]\n",
      "Training:   0%|          | 0/100 [00:00<?, ?it/s]"
     ]
    },
    {
     "name": "stdout",
     "output_type": "stream",
     "text": [
      "\n",
      "Epoch: 5 validation test results - Average val_loss: 2441.7964, val_acc: 1487.0/10000 (14.87%)\n"
     ]
    },
    {
     "name": "stderr",
     "output_type": "stream",
     "text": [
      "Epoch: 6 loss: 11.1634, acc: 0.18: 100%|██████████| 100/100 [00:44<00:00,  2.25it/s]\n",
      "Validation: 100%|██████████| 10/10 [00:04<00:00,  2.49it/s]\n",
      "Training:   0%|          | 0/100 [00:00<?, ?it/s]"
     ]
    },
    {
     "name": "stdout",
     "output_type": "stream",
     "text": [
      "\n",
      "Epoch: 6 validation test results - Average val_loss: 2410.0959, val_acc: 1577.0/10000 (15.77%)\n"
     ]
    },
    {
     "name": "stderr",
     "output_type": "stream",
     "text": [
      "Epoch: 7 loss: 10.9058, acc: 0.19: 100%|██████████| 100/100 [00:44<00:00,  2.23it/s]\n",
      "Validation: 100%|██████████| 10/10 [00:03<00:00,  2.52it/s]\n",
      "Training:   0%|          | 0/100 [00:00<?, ?it/s]"
     ]
    },
    {
     "name": "stdout",
     "output_type": "stream",
     "text": [
      "\n",
      "Epoch: 7 validation test results - Average val_loss: 2400.0823, val_acc: 1570.0/10000 (15.70%)\n"
     ]
    },
    {
     "name": "stderr",
     "output_type": "stream",
     "text": [
      "Epoch: 8 loss: 10.6624, acc: 0.19: 100%|██████████| 100/100 [00:44<00:00,  2.24it/s]\n",
      "Validation: 100%|██████████| 10/10 [00:04<00:00,  2.49it/s]\n",
      "Training:   0%|          | 0/100 [00:00<?, ?it/s]"
     ]
    },
    {
     "name": "stdout",
     "output_type": "stream",
     "text": [
      "\n",
      "Epoch: 8 validation test results - Average val_loss: 2383.5735, val_acc: 1621.0/10000 (16.21%)\n"
     ]
    },
    {
     "name": "stderr",
     "output_type": "stream",
     "text": [
      "Epoch: 9 loss: 10.4251, acc: 0.20: 100%|██████████| 100/100 [00:44<00:00,  2.24it/s]\n",
      "Validation: 100%|██████████| 10/10 [00:03<00:00,  2.55it/s]\n",
      "Training:   0%|          | 0/100 [00:00<?, ?it/s]"
     ]
    },
    {
     "name": "stdout",
     "output_type": "stream",
     "text": [
      "\n",
      "Epoch: 9 validation test results - Average val_loss: 2378.4661, val_acc: 1668.0/10000 (16.68%)\n"
     ]
    },
    {
     "name": "stderr",
     "output_type": "stream",
     "text": [
      "Epoch: 10 loss: 10.2326, acc: 0.21: 100%|██████████| 100/100 [00:44<00:00,  2.23it/s]\n",
      "Validation: 100%|██████████| 10/10 [00:04<00:00,  2.50it/s]\n"
     ]
    },
    {
     "name": "stdout",
     "output_type": "stream",
     "text": [
      "\n",
      "Epoch: 10 validation test results - Average val_loss: 2350.1941, val_acc: 1663.0/10000 (16.63%)\n"
     ]
    },
    {
     "data": {
      "image/png": "[encoded data removed]",
      "text/plain": [
       "<Figure size 936x288 with 4 Axes>"
      ]
     },
     "metadata": {
      "needs_background": "light"
     },
     "output_type": "display_data"
    }
   ],
   "source": [
    "# On Tiny Imagenet\n",
    "run_experiment(Args(dataset='tiny-imagenet-200', batch_size=1000, features=12288, classes=200, margin=20))"
   ]
  }
 ],
 "metadata": {
  "accelerator": "GPU",
  "colab": {
   "collapsed_sections": [],
   "name": "SVM.ipynb",
   "provenance": [],
   "version": "0.3.2"
  },
  "kernelspec": {
   "display_name": "Python 3",
   "language": "python",
   "name": "python3"
  },
  "language_info": {
   "codemirror_mode": {
    "name": "ipython",
    "version": 3
   },
   "file_extension": ".py",
   "mimetype": "text/x-python",
   "name": "python",
   "nbconvert_exporter": "python",
   "pygments_lexer": "ipython3",
   "version": "3.7.0"
  }
 },
 "nbformat": 4,
 "nbformat_minor": 1
}
